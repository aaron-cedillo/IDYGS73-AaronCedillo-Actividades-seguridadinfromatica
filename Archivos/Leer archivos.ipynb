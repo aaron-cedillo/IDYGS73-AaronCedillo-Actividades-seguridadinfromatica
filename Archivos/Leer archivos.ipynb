{
 "cells": [
  {
   "cell_type": "code",
   "execution_count": 4,
   "id": "5a475d4d",
   "metadata": {},
   "outputs": [
    {
     "name": "stdout",
     "output_type": "stream",
     "text": [
      "nombre: Aaron Jafet\n",
      "apellido: Cedillo Escalante\n",
      "edad: 19\n",
      "domicilio: sm53813\n",
      "clave: 199332\n",
      "curp: CEEA031206HQRDSRA7\n",
      "fecha: 06-12-03\n",
      "seccion: 121\n",
      "registro: 2022\n",
      "vigencia: 2032\n",
      "sexo: Masculino\n",
      "\n"
     ]
    }
   ],
   "source": [
    "#leer txt\n",
    "\n",
    "def leer_archivo(nombre_archivo):\n",
    "    try:\n",
    "        with open(nombre_archivo, \"r\") as archivo:\n",
    "            contenido = archivo.read()\n",
    "            print(contenido)\n",
    "    except FileNotFoundError:\n",
    "        print(f\"El archivo '{nombre_archivo}' no existe.\")\n",
    "\n",
    "nombre_archivo = \"tarea_ine.txt\"\n",
    "\n",
    "leer_archivo(nombre_archivo)"
   ]
  },
  {
   "cell_type": "code",
   "execution_count": 12,
   "id": "7fbe9d28",
   "metadata": {},
   "outputs": [
    {
     "name": "stdout",
     "output_type": "stream",
     "text": [
      "El archivo '111.pdf' no existe.\n"
     ]
    }
   ],
   "source": [
    "#leer pdf\n",
    "\n",
    "import PyPDF2\n",
    "\n",
    "def leer_archivo_pdf(nombre_archivo):\n",
    "    try:\n",
    "        with open(nombre_archivo, \"rb\") as archivo:\n",
    "            pdf_reader = PyPDF2.PdfReader(archivo)  # Cambia PdfFileReader a PdfReader\n",
    "            for page_num in range(len(pdf_reader.pages)):\n",
    "                page = pdf_reader.pages[page_num]\n",
    "                print(page.extract_text())\n",
    "    except FileNotFoundError:\n",
    "        print(f\"El archivo '{nombre_archivo}' no existe.\")\n",
    "\n",
    "nombre_archivo_pdf = \"111.pdf\"\n",
    "leer_archivo_pdf(nombre_archivo_pdf)"
   ]
  },
  {
   "cell_type": "code",
   "execution_count": 10,
   "id": "eba12182",
   "metadata": {},
   "outputs": [
    {
     "name": "stdout",
     "output_type": "stream",
     "text": [
      "   Unnamed: 0  Unnamed: 1  Unnamed: 2                     Unnamed: 3\n",
      "0         NaN         NaN         NaN                            NaN\n",
      "1         NaN         NaN         NaN            Prueba de actividad\n",
      "2         NaN         NaN         NaN                            NaN\n",
      "3         NaN         NaN         NaN  Aaron Jafet Cedillo Escalante\n",
      "4         NaN         NaN         NaN                       21393169\n",
      "5         NaN         NaN         NaN                        IDYGS73\n"
     ]
    }
   ],
   "source": [
    "import pandas as pd\n",
    "\n",
    "# Ruta al archivo Excel\n",
    "path = '111.xlsx'\n",
    "\n",
    "# Carga el archivo Excel en un DataFrame de pandas\n",
    "df = pd.read_excel(path)\n",
    "\n",
    "# Muestra el contenido del DataFrame\n",
    "print(df)"
   ]
  }
 ],
 "metadata": {
  "kernelspec": {
   "display_name": "Python 3 (ipykernel)",
   "language": "python",
   "name": "python3"
  },
  "language_info": {
   "codemirror_mode": {
    "name": "ipython",
    "version": 3
   },
   "file_extension": ".py",
   "mimetype": "text/x-python",
   "name": "python",
   "nbconvert_exporter": "python",
   "pygments_lexer": "ipython3",
   "version": "3.11.4"
  }
 },
 "nbformat": 4,
 "nbformat_minor": 5
}
