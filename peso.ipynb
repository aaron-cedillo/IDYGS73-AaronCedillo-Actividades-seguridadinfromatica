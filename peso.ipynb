{
 "cells": [
  {
   "cell_type": "code",
   "execution_count": 3,
   "id": "8721297e",
   "metadata": {},
   "outputs": [],
   "source": [
    "INE = {\"nombre\":\"Aaron Jafet\",\n",
    "       \"ap_paterno\":\"Cedillo\",\n",
    "       \"ap_materno\":\"Escalante\",\n",
    "       \"Edad\": 19,\n",
    "       \"Altura\": 1.75,\n",
    "       \"peso\" : 80\n",
    "      }"
   ]
  },
  {
   "cell_type": "code",
   "execution_count": 4,
   "id": "ace2d2f9",
   "metadata": {},
   "outputs": [
    {
     "name": "stdout",
     "output_type": "stream",
     "text": [
      "El IMC es 26.12, lo que se clasifica como Sobrepeso\n"
     ]
    }
   ],
   "source": [
    "def imc(peso, altura):\n",
    "    return peso / altura ** 2\n",
    "\n",
    "def clasificar_imc(imc_valor):\n",
    "    if imc_valor < 18.5:\n",
    "        return \"Bajo Peso\"\n",
    "    elif 18.5 <= imc_valor < 25:\n",
    "        return \"Normal\"\n",
    "    elif 25 <= imc_valor < 30:\n",
    "        return \"Sobrepeso\"\n",
    "    else:\n",
    "        return \"Obesidad\"\n",
    "\n",
    "\n",
    "imc_valor = imc(INE[\"peso\"], INE[\"Altura\"])\n",
    "\n",
    "clasificacion = clasificar_imc(imc_valor)\n",
    "\n",
    "print(f\"El IMC es {imc_valor:.2f}, lo que se clasifica como {clasificacion}\")"
   ]
  },
  {
   "cell_type": "code",
   "execution_count": null,
   "id": "da4a3155",
   "metadata": {},
   "outputs": [],
   "source": []
  }
 ],
 "metadata": {
  "kernelspec": {
   "display_name": "Python 3 (ipykernel)",
   "language": "python",
   "name": "python3"
  },
  "language_info": {
   "codemirror_mode": {
    "name": "ipython",
    "version": 3
   },
   "file_extension": ".py",
   "mimetype": "text/x-python",
   "name": "python",
   "nbconvert_exporter": "python",
   "pygments_lexer": "ipython3",
   "version": "3.11.4"
  }
 },
 "nbformat": 4,
 "nbformat_minor": 5
}
