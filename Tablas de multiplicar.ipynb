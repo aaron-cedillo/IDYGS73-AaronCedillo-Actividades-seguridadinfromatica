{
 "cells": [
  {
   "cell_type": "code",
   "execution_count": null,
   "id": "e13df8db",
   "metadata": {},
   "outputs": [],
   "source": [
    "#Actividad 1"
   ]
  },
  {
   "cell_type": "code",
   "execution_count": 1,
   "id": "b735e992",
   "metadata": {},
   "outputs": [
    {
     "name": "stdout",
     "output_type": "stream",
     "text": [
      "Introduce la tabla desde la cual empezar: 1\n",
      "Introduce la tabla hasta la cual llegar: 3\n",
      "Introduce cuántas veces se multiplicará en cada tabla: 4\n",
      "Introduce desde qué número empezar a multiplicar: 5\n",
      "Tabla de multiplicar del 1:\n",
      "1 x 5 = 5\n",
      "1 x 6 = 6\n",
      "1 x 7 = 7\n",
      "1 x 8 = 8\n",
      "\n",
      "Tabla de multiplicar del 2:\n",
      "2 x 5 = 10\n",
      "2 x 6 = 12\n",
      "2 x 7 = 14\n",
      "2 x 8 = 16\n",
      "\n",
      "Tabla de multiplicar del 3:\n",
      "3 x 5 = 15\n",
      "3 x 6 = 18\n",
      "3 x 7 = 21\n",
      "3 x 8 = 24\n",
      "\n"
     ]
    }
   ],
   "source": [
    "tabla_inicio = int(input(\"Introduce la tabla desde la cual empezar: \"))\n",
    "tabla_hasta = int(input(\"Introduce la tabla hasta la cual llegar: \"))\n",
    "veces_a_multiplicar = int(input(\"Introduce cuántas veces se multiplicará en cada tabla: \"))\n",
    "inicio_multiplicar = int(input(\"Introduce desde qué número empezar a multiplicar: \"))\n",
    "\n",
    "if tabla_inicio <= tabla_hasta and veces_a_multiplicar > 0 and inicio_multiplicar >= 1:\n",
    "    for factor1 in range(tabla_inicio, tabla_hasta + 1):\n",
    "        print(f'Tabla de multiplicar del {factor1}:')\n",
    "        for factor2 in range(inicio_multiplicar, inicio_multiplicar + veces_a_multiplicar):\n",
    "            resultado = factor1 * factor2\n",
    "            print(f'{factor1} x {factor2} = {resultado}')\n",
    "        print()"
   ]
  },
  {
   "cell_type": "code",
   "execution_count": null,
   "id": "e10921ee",
   "metadata": {},
   "outputs": [],
   "source": []
  }
 ],
 "metadata": {
  "kernelspec": {
   "display_name": "Python 3 (ipykernel)",
   "language": "python",
   "name": "python3"
  },
  "language_info": {
   "codemirror_mode": {
    "name": "ipython",
    "version": 3
   },
   "file_extension": ".py",
   "mimetype": "text/x-python",
   "name": "python",
   "nbconvert_exporter": "python",
   "pygments_lexer": "ipython3",
   "version": "3.11.4"
  }
 },
 "nbformat": 4,
 "nbformat_minor": 5
}
