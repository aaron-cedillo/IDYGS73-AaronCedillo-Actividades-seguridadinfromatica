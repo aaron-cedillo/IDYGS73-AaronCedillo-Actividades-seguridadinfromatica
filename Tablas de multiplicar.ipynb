tabla_inicio = int(input("Introduce la tabla desde la cual empezar: "))
tabla_hasta = int(input("Introduce la tabla hasta la cual llegar: "))
veces_a_multiplicar = int(input("Introduce cuántas veces se multiplicará en cada tabla: "))
inicio_multiplicar = int(input("Introduce desde qué número empezar a multiplicar: "))

if tabla_inicio <= tabla_hasta and veces_a_multiplicar > 0 and inicio_multiplicar >= 1:
    for factor1 in range(tabla_inicio, tabla_hasta + 1):
        print(f'Tabla de multiplicar del {factor1}:')
        for factor2 in range(inicio_multiplicar, inicio_multiplicar + veces_a_multiplicar):
            resultado = factor1 * factor2
            print(f'{factor1} x {factor2} = {resultado}')
        print()
