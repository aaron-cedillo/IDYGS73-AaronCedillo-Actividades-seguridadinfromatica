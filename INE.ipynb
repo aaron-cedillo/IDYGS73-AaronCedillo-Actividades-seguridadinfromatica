{
 "cells": [
  {
   "cell_type": "code",
   "execution_count": 1,
   "id": "0e13fdc9",
   "metadata": {},
   "outputs": [
    {
     "name": "stdout",
     "output_type": "stream",
     "text": [
      "Nombre: Aaron Jafet\n",
      "Apellido: Cedillo Escalante\n",
      "Edad: 19\n",
      "Domicilio: sm53813\n",
      "Número clave de tu INE: 199332\n",
      "Agrega tu CURP: CEEA031206HQRDSRA7\n",
      "Agrega tu fecha de nacimiento: 06-12-03\n",
      "Agrega tu número de sección: 121\n",
      "Agrega tu año de registro: 2022\n",
      "Agrega el año de vigencia: 2032\n",
      "Agrega tu sexo: Masculino\n"
     ]
    }
   ],
   "source": [
    "def solicitar_datos_ine():\n",
    "    datos_ine = {}\n",
    "    datos_ine['nombre'] = input(\"Nombre: \")\n",
    "    datos_ine['apellido'] = input(\"Apellido: \")\n",
    "    datos_ine['edad'] = input(\"Edad: \")\n",
    "    datos_ine['domicilio'] = input(\"Domicilio: \")\n",
    "    datos_ine['clave'] = input(\"Número clave de tu INE: \")\n",
    "    datos_ine['curp'] = input(\"Agrega tu CURP: \")\n",
    "    datos_ine['fecha'] = input(\"Agrega tu fecha de nacimiento: \")\n",
    "    datos_ine['seccion'] = input(\"Agrega tu número de sección: \")\n",
    "    datos_ine['registro'] = input(\"Agrega tu año de registro: \")\n",
    "    datos_ine['vigencia'] = input(\"Agrega el año de vigencia: \")\n",
    "    datos_ine['sexo'] = input(\"Agrega tu sexo: \")\n",
    "    return datos_ine\n",
    "\n",
    "def guardar_datos_archivo(datos_ine, nombre_archivo):\n",
    "    with open(nombre_archivo, \"w\") as archivo:\n",
    "        for clave, valor in datos_ine.items():\n",
    "            archivo.write(f\"{clave}: {valor}\\n\")\n",
    "\n",
    "datos_ine = solicitar_datos_ine()\n",
    "nombre_archivo = \"tarea_ine.txt\"\n",
    "guardar_datos_archivo(datos_ine, nombre_archivo)\n"
   ]
  }
 ],
 "metadata": {
  "kernelspec": {
   "display_name": "Python 3 (ipykernel)",
   "language": "python",
   "name": "python3"
  },
  "language_info": {
   "codemirror_mode": {
    "name": "ipython",
    "version": 3
   },
   "file_extension": ".py",
   "mimetype": "text/x-python",
   "name": "python",
   "nbconvert_exporter": "python",
   "pygments_lexer": "ipython3",
   "version": "3.11.4"
  }
 },
 "nbformat": 4,
 "nbformat_minor": 5
}
